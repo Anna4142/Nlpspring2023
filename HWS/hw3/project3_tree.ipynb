{
  "cells": [
    {
      "cell_type": "code",
      "source": [
        "!gdown --id 1hTgKXDk_cJGewSdSboERmssec7DHAu5d"
      ],
      "metadata": {
        "colab": {
          "base_uri": "https://localhost:8080/"
        },
        "id": "GtISIPzyfqhc",
        "outputId": "717d323f-1a7c-44fe-be34-93ec642c0557"
      },
      "id": "GtISIPzyfqhc",
      "execution_count": 7,
      "outputs": [
        {
          "output_type": "stream",
          "name": "stdout",
          "text": [
            "/usr/local/lib/python3.10/dist-packages/gdown/cli.py:121: FutureWarning: Option `--id` was deprecated in version 4.3.1 and will be removed in 5.0. You don't need to pass it anymore to use a file ID.\n",
            "  warnings.warn(\n",
            "Downloading...\n",
            "From: https://drive.google.com/uc?id=1hTgKXDk_cJGewSdSboERmssec7DHAu5d\n",
            "To: /content/requirements.txt\n",
            "100% 20.0/20.0 [00:00<00:00, 102kB/s]\n"
          ]
        }
      ]
    },
    {
      "cell_type": "code",
      "source": [
        "!pip install  -r /content/requirements.txt"
      ],
      "metadata": {
        "colab": {
          "base_uri": "https://localhost:8080/"
        },
        "id": "GbL794Ylf0Nd",
        "outputId": "2fd91db6-32e4-4e85-a177-b3ab54938d98"
      },
      "id": "GbL794Ylf0Nd",
      "execution_count": 8,
      "outputs": [
        {
          "output_type": "stream",
          "name": "stdout",
          "text": [
            "Looking in indexes: https://pypi.org/simple, https://us-python.pkg.dev/colab-wheels/public/simple/\n",
            "Requirement already satisfied: nltk==3.5 in /usr/local/lib/python3.10/dist-packages (from -r /content/requirements.txt (line 1)) (3.5)\n",
            "Requirement already satisfied: wget in /usr/local/lib/python3.10/dist-packages (from -r /content/requirements.txt (line 2)) (3.2)\n",
            "Requirement already satisfied: tqdm in /usr/local/lib/python3.10/dist-packages (from -r /content/requirements.txt (line 3)) (4.65.0)\n",
            "Requirement already satisfied: click in /usr/local/lib/python3.10/dist-packages (from nltk==3.5->-r /content/requirements.txt (line 1)) (8.1.3)\n",
            "Requirement already satisfied: joblib in /usr/local/lib/python3.10/dist-packages (from nltk==3.5->-r /content/requirements.txt (line 1)) (1.2.0)\n",
            "Requirement already satisfied: regex in /usr/local/lib/python3.10/dist-packages (from nltk==3.5->-r /content/requirements.txt (line 1)) (2022.10.31)\n"
          ]
        }
      ]
    },
    {
      "cell_type": "code",
      "execution_count": 9,
      "id": "369c1284",
      "metadata": {
        "collapsed": true,
        "deletable": false,
        "editable": false,
        "jupyter": {
          "outputs_hidden": true,
          "source_hidden": true
        },
        "colab": {
          "base_uri": "https://localhost:8080/"
        },
        "id": "369c1284",
        "outputId": "654a0136-9491-4d6a-b3bf-a8a4ea476b39"
      },
      "outputs": [
        {
          "output_type": "stream",
          "name": "stdout",
          "text": [
            "\n"
          ]
        }
      ],
      "source": [
        "# Please do not change this cell because some hidden tests might depend on it.\n",
        "import os\n",
        "\n",
        "# Otter grader does not handle ! commands well, so we define and use our\n",
        "# own function to execute shell commands.\n",
        "def shell(commands, warn=True):\n",
        "    \"\"\"Executes the string `commands` as a sequence of shell commands.\n",
        "\n",
        "       Prints the result to stdout and returns the exit status.\n",
        "       Provides a printed warning on non-zero exit status unless `warn`\n",
        "       flag is unset.\n",
        "    \"\"\"\n",
        "    file = os.popen(commands)\n",
        "    print (file.read().rstrip('\\n'))\n",
        "    exit_status = file.close()\n",
        "    if warn and exit_status != None:\n",
        "        print(f\"Completed with errors. Exit status: {exit_status}\\n\")\n",
        "    return exit_status\n",
        "\n",
        "shell(\"\"\"\n",
        "ls requirements.txt >/dev/null 2>&1\n",
        "if [ ! $? = 0 ]; then\n",
        " rm -rf .tmp\n",
        " git clone https://github.com/cs236299-2023-spring/project3.git .tmp\n",
        " mv .tmp/requirements.txt ./\n",
        " rm -rf .tmp\n",
        "fi\n",
        "pip install -q -r requirements.txt\n",
        "\"\"\")"
      ]
    },
    {
      "cell_type": "raw",
      "id": "e3c6f7d7",
      "metadata": {
        "jupyter": {
          "source_hidden": true
        },
        "id": "e3c6f7d7"
      },
      "source": [
        "%%latex\n",
        "\\newcommand{\\vect}[1]{\\mathbf{#1}}\n",
        "\\newcommand{\\cnt}[1]{\\sharp(#1)}\n",
        "\\newcommand{\\argmax}[1]{\\underset{#1}{\\operatorname{argmax}}}\n",
        "\\newcommand{\\softmax}{\\operatorname{softmax}}\n",
        "\\newcommand{\\Prob}{\\Pr}\n",
        "\\newcommand{\\given}{\\,|\\,}"
      ]
    },
    {
      "cell_type": "markdown",
      "id": "91dbe3a4",
      "metadata": {
        "jupyter": {
          "source_hidden": true
        },
        "id": "91dbe3a4"
      },
      "source": [
        "$$\n",
        "\\renewcommand{\\vect}[1]{\\mathbf{#1}}\n",
        "\\renewcommand{\\cnt}[1]{\\sharp(#1)}\n",
        "\\renewcommand{\\argmax}[1]{\\underset{#1}{\\operatorname{argmax}}}\n",
        "\\renewcommand{\\softmax}{\\operatorname{softmax}}\n",
        "\\renewcommand{\\Prob}{\\Pr}\n",
        "\\renewcommand{\\given}{\\,|\\,}\n",
        "$$"
      ]
    },
    {
      "cell_type": "markdown",
      "id": "20be92be",
      "metadata": {
        "tags": [
          "remove_for_latex"
        ],
        "id": "20be92be"
      },
      "source": [
        "# \t236299 - Introduction to Natural Language Processing\n",
        "## Project 3: Parsing – The CKY Algorithm"
      ]
    },
    {
      "cell_type": "markdown",
      "id": "ce60c947",
      "metadata": {
        "id": "ce60c947"
      },
      "source": [
        "Constituency parsing is the recovery of a labeled hierarchical structure, a _parse tree_ for a sentence of a natural language. It is a core intermediary task in natural-language processing, as the meanings of sentences are related to their structure.\n",
        "\n",
        "In this project, you will implement the CKY algorithm for parsing strings relative to context-free grammars (CFG). You will implement versions for both non-probabilistic context-free grammars (CFG) and probabilistic grammars (PCFG) and apply them to the parsing of ATIS queries.\n",
        "\n",
        "The project is structured into five parts:\n",
        "\n",
        "1. Finish a CFG for the ATIS dataset.\n",
        "2. Implement the CKY algorithm for _recognizing_ grammatical sentences, that is, determining whether a parse exists for a given sentence.\n",
        "3. Extend the CKY algorithm for _parsing_ sentences, that is, constructing the parse trees for a given sentence.\n",
        "4. Construct a probabilistic context-free grammar (PCFG) based on a CFG.\n",
        "5. Extend the CKY algorithm to PCFGs, allowing the construction of the most probable parse tree for a sentence according to a PCFG.\n",
        "\n",
        "# Setup"
      ]
    },
    {
      "cell_type": "code",
      "execution_count": 10,
      "id": "1d132d71",
      "metadata": {
        "colab": {
          "base_uri": "https://localhost:8080/",
          "height": 36
        },
        "id": "1d132d71",
        "outputId": "72156de7-4569-4f2f-9469-e6ff1ebd86a7"
      },
      "outputs": [
        {
          "output_type": "execute_result",
          "data": {
            "text/plain": [
              "'scripts//tree.py'"
            ],
            "application/vnd.google.colaboratory.intrinsic+json": {
              "type": "string"
            }
          },
          "metadata": {},
          "execution_count": 10
        }
      ],
      "source": [
        "# Download needed files and scripts\n",
        "import wget\n",
        "os.makedirs('data', exist_ok=True)\n",
        "os.makedirs('scripts', exist_ok=True)\n",
        "# ATIS queries\n",
        "wget.download(\"https://raw.githubusercontent.com/nlp-236299/data/master/ATIS/train.nl\", out=\"data/\")\n",
        "# Corresponding parse trees\n",
        "wget.download(\"https://raw.githubusercontent.com/nlp-236299/data/master/ATIS/train.trees\", out=\"data/\")\n",
        "wget.download(\"https://raw.githubusercontent.com/nlp-236299/data/master/ATIS/test.trees\", out=\"data/\")\n",
        "\n",
        "# Code for comparing and evaluating parse trees\n",
        "wget.download(\"https://raw.githubusercontent.com/nlp-236299/data/master/scripts/trees/evalb.py\", out=\"scripts/\")\n",
        "wget.download(\"https://raw.githubusercontent.com/nlp-236299/data/master/scripts/trees/transform.py\", out=\"scripts/\")\n",
        "wget.download(\"https://raw.githubusercontent.com/nlp-236299/data/master/scripts/trees/tree.py\", out=\"scripts/\")"
      ]
    },
    {
      "cell_type": "code",
      "execution_count": 11,
      "id": "a40322df",
      "metadata": {
        "id": "a40322df"
      },
      "outputs": [],
      "source": [
        "import shutil\n",
        "\n",
        "import nltk\n",
        "\n",
        "import sys\n",
        "\n",
        "from collections import defaultdict, Counter\n",
        "\n",
        "from nltk import treetransforms\n",
        "from nltk.grammar import ProbabilisticProduction, PCFG, Nonterminal\n",
        "from nltk.tree import Tree\n",
        "\n",
        "from tqdm import tqdm\n",
        "\n",
        "# Import functions for transforming augmented grammars\n",
        "sys.path.insert(1, './scripts')\n",
        "import transform as xform"
      ]
    },
    {
      "cell_type": "code",
      "execution_count": 12,
      "id": "67a9a24a",
      "metadata": {
        "id": "67a9a24a"
      },
      "outputs": [],
      "source": [
        "## Debug flag used below for turning on and off some useful tracing\n",
        "DEBUG = False"
      ]
    },
    {
      "cell_type": "markdown",
      "id": "6f534761",
      "metadata": {
        "id": "6f534761"
      },
      "source": [
        "# A custom ATIS grammar"
      ]
    },
    {
      "cell_type": "markdown",
      "id": "16392588",
      "metadata": {
        "id": "16392588"
      },
      "source": [
        "To parse, we need a grammar. In this project, you will use a hand-crafted grammar for a fragment of the ATIS dataset. The grammar is written in a \"semantic grammar\" style, in which the nonterminals tend to correspond to semantic classes of phrases, rather than syntactic classes. By using this style, we can more closely tune the grammar to the application, though we lose generality and transferability to other applications. The grammar will be used again in the next project segment for a question-answering application.\n",
        "\n",
        "We download the grammar to make it available."
      ]
    },
    {
      "cell_type": "code",
      "execution_count": 13,
      "id": "b5a525a4",
      "metadata": {
        "id": "b5a525a4"
      },
      "outputs": [],
      "source": [
        "if not os.path.exists('./data/grammar_distrib3'):\n",
        "  wget.download(\"https://raw.githubusercontent.com/nlp-236299/data/master/ATIS/grammar_distrib3\", out=\"data/\")\n",
        "if os.path.exists('./data/grammar_distrib3') and (not os.path.exists('./data/grammar')):\n",
        "  shutil.copy('./data/grammar_distrib3', './data/grammar')"
      ]
    },
    {
      "cell_type": "markdown",
      "id": "8e2b8c6b",
      "metadata": {
        "id": "8e2b8c6b"
      },
      "source": [
        "Take a look at the file `data/grammar_distrib3` that you've just downloaded. The grammar is written in a format that extends the NLTK format expected by `CFG.fromstring`. We've provided functions to make use of this format in the file `scripts/transform.py`. You should familiarize yourself with this format by checking out the documentation in that file.\n",
        "\n",
        "> We made a copy of this grammar for you as `data/grammar`. This is the file you'll be modifying in the next section. You can leave it alone for now.\n",
        "\n",
        "As described there, we can read the grammar in and convert it into NLTK's grammar format using the provided `xform.read_augmented_grammar` function."
      ]
    },
    {
      "cell_type": "code",
      "execution_count": 14,
      "id": "1acfc132",
      "metadata": {
        "id": "1acfc132"
      },
      "outputs": [],
      "source": [
        "atis_grammar_distrib, _ = xform.read_augmented_grammar(\"grammar_distrib3\", path=\"data\")"
      ]
    },
    {
      "cell_type": "markdown",
      "id": "54641ed0",
      "metadata": {
        "id": "54641ed0"
      },
      "source": [
        "To verify that the ATIS grammar that we distributed is working, we can parse a sentence using a built-in NLTK parser. We'll use a tokenizer built with NLTK's tokenizing apparatus."
      ]
    },
    {
      "cell_type": "code",
      "execution_count": 15,
      "id": "77f1e572",
      "metadata": {
        "colab": {
          "base_uri": "https://localhost:8080/"
        },
        "id": "77f1e572",
        "outputId": "c1a0e56d-12fb-4c67-b9aa-839ad717953c"
      },
      "outputs": [
        {
          "output_type": "stream",
          "name": "stdout",
          "text": [
            "['are', 'there', 'any', 'first-class', 'flights', 'at', '11', 'pm', 'for', 'less', 'than', '$3.50', '?']\n"
          ]
        }
      ],
      "source": [
        "## Tokenizer\n",
        "tokenizer = nltk.tokenize.RegexpTokenizer('\\d+|[\\w-]+|\\$[\\d\\.]+|\\S+')\n",
        "def tokenize(string):\n",
        "  return tokenizer.tokenize(string.lower())\n",
        "\n",
        "## Demonstrating the tokenizer\n",
        "## Note especially the handling of `\"11pm\"` and hyphenated words.\n",
        "print(tokenize(\"Are there any first-class flights at 11pm for less than $3.50?\"))"
      ]
    },
    {
      "cell_type": "code",
      "execution_count": 16,
      "id": "a1b7f36c",
      "metadata": {
        "colab": {
          "base_uri": "https://localhost:8080/"
        },
        "id": "a1b7f36c",
        "outputId": "2fb3061a-5087-4777-bf74-322218538958"
      },
      "outputs": [
        {
          "output_type": "stream",
          "name": "stdout",
          "text": [
            "                                                 S                                                \n",
            "                        _________________________|________________________                         \n",
            "                       |                                              NP_FLIGHT                   \n",
            "                       |                                                  |                        \n",
            "                       |                                              NOM_FLIGHT                  \n",
            "                       |                                                  |                        \n",
            "                       |                                               N_FLIGHT                   \n",
            "                       |                                        __________|_________               \n",
            "                   PREIGNORE                                   |                    PP            \n",
            "        _______________|____________                           |                    |              \n",
            "       |                        PREIGNORE                      |                 PP_TIME          \n",
            "       |                ____________|____________              |           _________|________      \n",
            "       |               |                     PREIGNORE      N_FLIGHT      |               NP_TIME \n",
            "       |               |                         |             |          |                  |     \n",
            "PREIGNORESYMBOL PREIGNORESYMBOL           PREIGNORESYMBOL TERM_FLIGHT   P_TIME           TERM_TIME\n",
            "       |               |                         |             |          |                  |     \n",
            "      show             me                       the         flights     before              noon  \n",
            "\n",
            "                                           S                                                    \n",
            "                     ______________________|__________________                                   \n",
            "                    |                                     NP_FLIGHT                             \n",
            "                    |                       __________________|_________                         \n",
            "                    |                      |                        NOM_FLIGHT                  \n",
            "                    |                      |                            |                        \n",
            "                    |                      |                         N_FLIGHT                   \n",
            "                    |                      |        ____________________|_________               \n",
            "                    |                      |       |                              PP            \n",
            "                    |                      |       |                              |              \n",
            "                PREIGNORE                  |       |                           PP_TIME          \n",
            "        ____________|____________          |       |                     _________|________      \n",
            "       |                     PREIGNORE     |    N_FLIGHT                |               NP_TIME \n",
            "       |                         |         |       |                    |                  |     \n",
            "PREIGNORESYMBOL           PREIGNORESYMBOL DET TERM_FLIGHT             P_TIME           TERM_TIME\n",
            "       |                         |         |       |                    |                  |     \n",
            "      show                       me       the   flights               before              noon  \n",
            "\n"
          ]
        }
      ],
      "source": [
        "## Test sentence\n",
        "test_sentence_1 = tokenize(\"show me the flights before noon\")\n",
        "\n",
        "## Construct parser from distribution grammar\n",
        "atis_parser_distrib = nltk.parse.BottomUpChartParser(atis_grammar_distrib)\n",
        "\n",
        "## Parse and print the parses\n",
        "parses = atis_parser_distrib.parse(test_sentence_1)\n",
        "for parse in parses:\n",
        "  parse.pretty_print()"
      ]
    },
    {
      "cell_type": "markdown",
      "id": "11849917",
      "metadata": {
        "id": "11849917"
      },
      "source": [
        "## Testing the coverage of the grammar\n",
        "\n",
        "We can get a sense of how well the grammar covers the ATIS query language by measuring the proportion of queries in the training set that are parsable by the grammar. We define a `coverage` function to carry out this evaluation.\n",
        "\n",
        "> Warning: It may take a long time to parse all of the sentence in the training corpus, on the order of 30 minutes. You may want to start with just the first few sentences in the corpus. The `coverage` function below makes it easy to do so, and in the code below we just test coverage on the first 50 sentences."
      ]
    },
    {
      "cell_type": "code",
      "execution_count": 17,
      "id": "3b73d5af",
      "metadata": {
        "id": "3b73d5af"
      },
      "outputs": [],
      "source": [
        "## Read in the training corpus\n",
        "with open('data/train.nl') as file:\n",
        "  training_corpus = [tokenize(line) for line in file]"
      ]
    },
    {
      "cell_type": "code",
      "execution_count": 18,
      "id": "f3185ce8",
      "metadata": {
        "id": "f3185ce8"
      },
      "outputs": [],
      "source": [
        "def coverage(recognizer, corpus, n=0):\n",
        "  \"\"\"Returns the proportion of the first `n` sentences in the `corpus`\n",
        "  that are recognized by the `recognizer`, which should return a boolean.\n",
        "  `n` is taken to be the whole corpus if n is not provided or is\n",
        "  non-positive.\n",
        "  \"\"\"\n",
        "  n = len(corpus) if n <= 0 else n\n",
        "  parsed = 0\n",
        "  total = 0\n",
        "  for sent in tqdm(corpus[:n]):\n",
        "    total += 1\n",
        "    try:\n",
        "      parses = recognizer(sent)\n",
        "    except:\n",
        "      parses = None\n",
        "    if parses:\n",
        "      parsed += 1\n",
        "    elif DEBUG:\n",
        "      print(f\"failed: {sent}\")\n",
        "  if DEBUG: print(f\"{parsed} of {total}\")\n",
        "  return parsed/total"
      ]
    },
    {
      "cell_type": "code",
      "execution_count": 19,
      "id": "493eac20",
      "metadata": {
        "colab": {
          "base_uri": "https://localhost:8080/"
        },
        "id": "493eac20",
        "outputId": "d5c8a6d3-17fb-4b3d-e2d5-e2136b664d45"
      },
      "outputs": [
        {
          "output_type": "stream",
          "name": "stderr",
          "text": [
            "100%|██████████| 50/50 [00:00<00:00, 86.02it/s] \n"
          ]
        },
        {
          "output_type": "execute_result",
          "data": {
            "text/plain": [
              "0.0"
            ]
          },
          "metadata": {},
          "execution_count": 19
        }
      ],
      "source": [
        "coverage(lambda sent: 0 < len(list(atis_parser_distrib.parse(sent))),  # trick for turning parser into recognizer\n",
        "         training_corpus, n=50)"
      ]
    },
    {
      "cell_type": "markdown",
      "id": "92c1d48e",
      "metadata": {
        "id": "92c1d48e"
      },
      "source": [
        "Sadly, you'll find that the coverage of the grammar is extraordinarily poor. That's because it is missing crucial parts of the grammar, especially phrases about _places_, which play a role in essentially every ATIS query. You'll need to complete the grammar before it can be useful."
      ]
    },
    {
      "cell_type": "markdown",
      "id": "4f5a1e7d",
      "metadata": {
        "id": "4f5a1e7d"
      },
      "source": [
        "## Part 1: Finish the CFG for the ATIS dataset\n",
        "\n",
        "Consider the following query:"
      ]
    },
    {
      "cell_type": "code",
      "execution_count": 20,
      "id": "688a21c4",
      "metadata": {
        "id": "688a21c4"
      },
      "outputs": [],
      "source": [
        "test_sentence_2 = tokenize(\"show me the united flights from boston\")"
      ]
    },
    {
      "cell_type": "markdown",
      "id": "799f2fbc",
      "metadata": {
        "id": "799f2fbc"
      },
      "source": [
        "You'll notice that the grammar we distributed doesn't handle this query because it doesn't have a subgrammar for airline information (`\"united\"`) or for places (`\"from boston\"`)."
      ]
    },
    {
      "cell_type": "code",
      "execution_count": 21,
      "id": "57f11593",
      "metadata": {
        "colab": {
          "base_uri": "https://localhost:8080/"
        },
        "id": "57f11593",
        "outputId": "386cfba0-d95c-4a11-d83d-5b1abf084b66"
      },
      "outputs": [
        {
          "output_type": "execute_result",
          "data": {
            "text/plain": [
              "0"
            ]
          },
          "metadata": {},
          "execution_count": 21
        }
      ],
      "source": [
        "len(list(atis_parser_distrib.parse(test_sentence_2)))"
      ]
    },
    {
      "cell_type": "markdown",
      "id": "1d3f533d",
      "metadata": {
        "id": "1d3f533d"
      },
      "source": [
        "Follow the instructions in the grammar file `data/grammar` to add further coverage to the grammar. (You can and should leave the `data/grammar_distrib3` copy alone and use it for reference.)\n",
        "\n",
        "We'll define a parser based on your modified grammar, so we can compare it against the distributed grammar. Once you've modified the grammar, this test sentence should have at least one parse.\n",
        "\n",
        "> You can search for \"TODO\" in `data/grammar` to find the two places to add grammar rules."
      ]
    },
    {
      "cell_type": "code",
      "execution_count": 25,
      "id": "6cbb8e3e",
      "metadata": {
        "colab": {
          "base_uri": "https://localhost:8080/"
        },
        "id": "6cbb8e3e",
        "outputId": "c4a80e46-fc77-47ec-b000-3ea26bbc2801"
      },
      "outputs": [
        {
          "output_type": "stream",
          "name": "stdout",
          "text": [
            "                                                               S                                                           \n",
            "                        _______________________________________|______________________                                      \n",
            "                       |                                                          NP_FLIGHT                                \n",
            "                       |                                                              |                                     \n",
            "                       |                                                          NOM_FLIGHT                               \n",
            "                       |                                        ______________________|__________                           \n",
            "                       |                                       |                             NOM_FLIGHT                    \n",
            "                       |                                       |                                 |                          \n",
            "                   PREIGNORE                                   |                              N_FLIGHT                     \n",
            "        _______________|____________                           |            _____________________|_________                 \n",
            "       |                        PREIGNORE                      |           |                               PP              \n",
            "       |                ____________|____________              |           |                               |                \n",
            "       |               |                     PREIGNORE        ADJ       N_FLIGHT                        PP_PLACE           \n",
            "       |               |                         |             |           |                      _________|_________       \n",
            "PREIGNORESYMBOL PREIGNORESYMBOL           PREIGNORESYMBOL ADJ_AIRLINE TERM_FLIGHT             P_PLACE            TERM_PLACE\n",
            "       |               |                         |             |           |                     |                   |      \n",
            "      show             me                       the          united     flights                 from               boston  \n",
            "\n",
            "                                                   S                                                           \n",
            "                     ______________________________|___________                                                 \n",
            "                    |                                      NP_FLIGHT                                           \n",
            "                    |                       ___________________|__________                                      \n",
            "                    |                      |                          NOM_FLIGHT                               \n",
            "                    |                      |        ______________________|__________                           \n",
            "                    |                      |       |                             NOM_FLIGHT                    \n",
            "                    |                      |       |                                 |                          \n",
            "                    |                      |       |                              N_FLIGHT                     \n",
            "                    |                      |       |            _____________________|_________                 \n",
            "                PREIGNORE                  |       |           |                               PP              \n",
            "        ____________|____________          |       |           |                               |                \n",
            "       |                     PREIGNORE     |      ADJ       N_FLIGHT                        PP_PLACE           \n",
            "       |                         |         |       |           |                      _________|_________       \n",
            "PREIGNORESYMBOL           PREIGNORESYMBOL DET ADJ_AIRLINE TERM_FLIGHT             P_PLACE            TERM_PLACE\n",
            "       |                         |         |       |           |                     |                   |      \n",
            "      show                       me       the    united     flights                 from               boston  \n",
            "\n"
          ]
        }
      ],
      "source": [
        "atis_grammar_expanded, _ = xform.read_augmented_grammar(\"grammar\", path=\"data\")\n",
        "atis_parser_expanded = nltk.parse.BottomUpChartParser(atis_grammar_expanded)\n",
        "\n",
        "parses = [p for p in atis_parser_expanded.parse(test_sentence_2)]\n",
        "for parse in parses:\n",
        "  parse.pretty_print()"
      ]
    },
    {
      "cell_type": "code",
      "execution_count": 29,
      "id": "a857aabd",
      "metadata": {
        "id": "a857aabd"
      },
      "outputs": [],
      "source": [
        "test_sentence_3 = tokenize(\"what is the most expensive one way flight from boston to atlanta on american airlines\")\n",
        "parsess = [p for p in atis_parser_expanded.parse(test_sentence_3)]\n",
        "for parse in parsess:\n",
        "  parse.pretty_print()\n"
      ]
    },
    {
      "cell_type": "markdown",
      "id": "72531490",
      "metadata": {
        "id": "72531490"
      },
      "source": [
        "Once you're done adding to the grammar, to check your grammar, we'll compute the grammar's coverage of the ATIS training corpus as before.\n",
        "**This grammar should be expected to cover about half of the sentences in the first 50 sentences, and a third of the entire training corpus.**"
      ]
    },
    {
      "cell_type": "code",
      "execution_count": 27,
      "id": "bef9bbe1",
      "metadata": {
        "colab": {
          "base_uri": "https://localhost:8080/"
        },
        "id": "bef9bbe1",
        "outputId": "f9c775a0-51c3-4bfb-899c-ca3cafceca0a"
      },
      "outputs": [
        {
          "output_type": "stream",
          "name": "stderr",
          "text": [
            "100%|██████████| 50/50 [00:00<00:00, 271.25it/s]\n"
          ]
        },
        {
          "output_type": "execute_result",
          "data": {
            "text/plain": [
              "0.44"
            ]
          },
          "metadata": {},
          "execution_count": 27
        }
      ],
      "source": [
        "coverage(lambda sent: 0 < len(list(atis_parser_expanded.parse(sent))),  # trick for turning parser into recognizer\n",
        "         training_corpus, n=50)"
      ]
    },
    {
      "cell_type": "markdown",
      "id": "33adb1d2",
      "metadata": {
        "id": "33adb1d2"
      },
      "source": [
        "# CFG recognition via the CKY algorithm\n",
        "\n",
        "Now we turn to implementing recognizers and parsers using the CKY algorithm. We start with a recognizer, which should return `True` or `False` if a grammar does or does not admit a sentence as grammatical.\n",
        "\n",
        "## Converting the grammar to CNF for use by the CKY algorithm\n",
        "\n",
        "The CKY algorithm requires the grammar to be in Chomsky normal form (CNF). That is, only rules of the forms\n",
        "\\begin{align*}\n",
        "A &\\rightarrow B\\, C\\\\\n",
        "A &\\rightarrow a\n",
        "\\end{align*}\n",
        "are allowed, where $A$, $B$, $C$ are nonterminals and $a$ is a terminal symbol.\n",
        "\n",
        "However, in some downstream applications (such as the next project segment) we want to use grammar rules of more general forms, such as $A \\rightarrow B\\, C\\, D$. Indeed, the ATIS grammar you've been working on makes use of the additional expressivity beyond CNF.\n",
        "\n",
        "To satisfy both of these constraints, we will convert the grammar to CNF, parse using CKY, and then convert the returned parse trees back to the form of the original grammar. We provide some useful functions for performing these transformations in the file `scripts/transform.py`, already loaded above and imported as `xform`.\n",
        "\n",
        "To convert a grammar to CNF:\n",
        "\n",
        "`cnf_grammar, cnf_grammar_wunaries = xform.get_cnf_grammar(grammar)`\n",
        "\n",
        "To convert a tree output from CKY back to the original form of the grammar:\n",
        "\n",
        "`xform.un_cnf(tree, cnf_grammar_wunaries)`\n",
        "\n",
        "> We pass into `un_cnf` a version of the grammar before removing unary nonterminal productions, `cnf_grammar_wunaries`. The `cnf_grammar_wunaries` is returened as the second part of the returned value of `get_cnf_grammar` for just this purpose."
      ]
    },
    {
      "cell_type": "code",
      "execution_count": 30,
      "id": "c919b89e",
      "metadata": {
        "id": "c919b89e"
      },
      "outputs": [],
      "source": [
        "atis_grammar_cnf, atis_grammar_wunaries = xform.get_cnf_grammar(atis_grammar_expanded)\n",
        "assert(atis_grammar_cnf.is_chomsky_normal_form())\n"
      ]
    },
    {
      "cell_type": "markdown",
      "id": "ef19966d",
      "metadata": {
        "id": "ef19966d"
      },
      "source": [
        "In the next sections, you'll write your own recognizers and parsers based on the CKY algorithm that can operate on this grammar."
      ]
    },
    {
      "cell_type": "markdown",
      "id": "380a77f5",
      "metadata": {
        "id": "380a77f5"
      },
      "source": [
        "## Part 2: Implement a CKY recognizer\n",
        "\n",
        "Implement a _recognizer_ using the CKY algorithm to determine if a sentence `tokens` is parsable. The labs and J&M Chapter 13, both of which provide appropriaste pseudo-code for CKY, should be useful references here.\n",
        "\n",
        "> **Hint:** Recall that you can get the production rules of a grammar using `grammar.productions()`.\n",
        "\n",
        "> Throughtout this project segment, you should use `grammar.start()` to get the special start symbol from the grammar instead of using `S`, since some grammar uses a different start symbol, such as `TOP`."
      ]
    },
    {
      "cell_type": "code",
      "source": [
        "def cky_recognize(grammar, tokens):\n",
        "    \"\"\"\n",
        "    Returns True if and only if the list of tokens `tokens` is admitted\n",
        "    by the `grammar`.\n",
        "    Implements the CKY algorithm, and therefore assumes `grammar` is in\n",
        "    Chomsky normal form.\n",
        "    \"\"\"\n",
        "    # Create an empty chart for storing intermediate results\n",
        "    chart = [[set() for _ in range(len(tokens) + 1)] for _ in range(len(tokens) + 1)]\n",
        "\n",
        "    # Fill in the diagonal of the chart with nonterminals that produce the terminals\n",
        "    for j in range(1, len(tokens) + 1):\n",
        "        for prod in grammar.productions(rhs=tokens[j-1]):\n",
        "            chart[j-1][j].add(prod.lhs())\n",
        "\n",
        "    # Apply the CKY algorithm\n",
        "    for length in range(2, len(tokens) + 1):\n",
        "        for start in range(len(tokens) - length + 1):\n",
        "            end = start + length\n",
        "            for mid in range(start + 1, end):\n",
        "                for prod in grammar.productions():\n",
        "                    if len(prod.rhs()) == 2:\n",
        "                        B, C = prod.rhs()\n",
        "                        for B_item in chart[start][mid]:\n",
        "                            for C_item in chart[mid][end]:\n",
        "                                if B == B_item and C == C_item:\n",
        "                                    chart[start][end].add(prod.lhs())\n",
        "\n",
        "    # Check if the start symbol is in the final cell of the chart\n",
        "    return grammar.start() in chart[0][len(tokens)] and len(chart[0][len(tokens)]) > 0\n",
        "\n"
      ],
      "metadata": {
        "id": "czo3qHEU0zK9"
      },
      "id": "czo3qHEU0zK9",
      "execution_count": 78,
      "outputs": []
    },
    {
      "cell_type": "markdown",
      "id": "8bc8eae7",
      "metadata": {
        "id": "8bc8eae7"
      },
      "source": [
        "You can test your recognizer on a few examples, both grammatical and ungrammatical, as below."
      ]
    },
    {
      "cell_type": "code",
      "execution_count": 79,
      "id": "3bd2ab73",
      "metadata": {
        "colab": {
          "base_uri": "https://localhost:8080/"
        },
        "outputId": "516782fc-9a0e-44f4-c8a7-9247b8555ed4",
        "id": "3bd2ab73"
      },
      "outputs": [
        {
          "output_type": "stream",
          "name": "stdout",
          "text": [
            "+    show me flights from boston\n",
            "+    show me united flights before noon\n",
            "-    are there any twa flights available tomorrow\n",
            "-    show me flights united are there any\n"
          ]
        }
      ],
      "source": [
        "test_sentences = [\"show me flights from boston\",\n",
        "                  \"show me united flights before noon\",\n",
        "                  \"are there any twa flights available tomorrow\",\n",
        "                  \"show me flights united are there any\"]\n",
        "\n",
        "for sentence in test_sentences:\n",
        "  recognized = \"+\" if cky_recognize(atis_grammar_cnf, tokenize(sentence)) else \"-\"\n",
        "  print(f\"{recognized:5}{sentence}\")"
      ]
    },
    {
      "cell_type": "markdown",
      "id": "a891d62b",
      "metadata": {
        "id": "a891d62b"
      },
      "source": [
        "You can also verify that the CKY recognizer verifies the same coverage as the NLTK parser."
      ]
    },
    {
      "cell_type": "code",
      "execution_count": 33,
      "id": "7699ae84",
      "metadata": {
        "colab": {
          "base_uri": "https://localhost:8080/"
        },
        "id": "7699ae84",
        "outputId": "e6503356-515a-4341-e1d1-de0c48ee3d30"
      },
      "outputs": [
        {
          "output_type": "stream",
          "name": "stderr",
          "text": [
            "100%|██████████| 50/50 [00:16<00:00,  3.02it/s]\n"
          ]
        },
        {
          "output_type": "execute_result",
          "data": {
            "text/plain": [
              "0.44"
            ]
          },
          "metadata": {},
          "execution_count": 33
        }
      ],
      "source": [
        "coverage(lambda sent: cky_recognize(atis_grammar_cnf, sent),\n",
        "         training_corpus, n=50)"
      ]
    },
    {
      "cell_type": "markdown",
      "id": "368edfb3",
      "metadata": {
        "id": "368edfb3"
      },
      "source": [
        "## Part 3: Implement a CKY parser\n",
        "\n",
        "In part 2, you implemented a context-free grammar recognizer. Next, you'll implement a _parser_.\n",
        "\n",
        "Implement the CKY algorithm for parsing with CFGs as a function `cky_parse`, which takes a grammar and a list of tokens and returns a single parse of the tokens as specified by the grammar, or `None` if there are no parses. You should only need to add a few lines of code to your CKY recognizer to achieve this, to implement the necessary back-pointers. The function should return an NLTK tree, which can be constructed using `Tree.fromstring`.\n",
        "\n",
        "A tree string will be like this example:\n",
        "\n",
        "```\n",
        "\"(S (A B) (C (D E) (F G)))\"\n",
        "```\n",
        "\n",
        "which corresponds to the following tree (drawn using tree.pretty_print()):\n",
        "```\n",
        "     S\n",
        "  ___|___\n",
        " |       C\n",
        " |    ___|___\n",
        " A   D       F\n",
        " |   |       |\n",
        " B   E       G\n",
        "```\n",
        "\n",
        "> **Hint:** You may want to extract from a `Nonterminal` its corresponding string. The `Nonterminal.__str__` method or f-string `f'{Nonterminal}'` accomplishes this."
      ]
    },
    {
      "cell_type": "code",
      "source": [
        "from nltk import CFG, Tree\n",
        "\n",
        "def cky_parse(grammar, tokens):\n",
        "    # Create an empty chart for storing intermediate results\n",
        "    chart = [[set() for _ in range(len(tokens) + 1)] for _ in range(len(tokens) + 1)]\n",
        "    back = [[{} for _ in range(len(tokens) + 1)] for _ in range(len(tokens) + 1)]\n",
        "\n",
        "    # Fill in the diagonal of the chart with nonterminals that produce the terminals\n",
        "    for j in range(1, len(tokens) + 1):\n",
        "        for prod in grammar.productions(rhs=tokens[j-1]):\n",
        "            chart[j-1][j].add(prod.lhs())\n",
        "            back[j-1][j][prod.lhs()] = (tokens[j-1])\n",
        "\n",
        "    # Apply the CKY algorithm\n",
        "    for length in range(2, len(tokens) + 1):\n",
        "        for start in range(len(tokens) - length + 1):\n",
        "            end = start + length\n",
        "            for mid in range(start + 1, end):\n",
        "                for prod in grammar.productions():\n",
        "                    if len(prod.rhs()) == 2:\n",
        "                        B, C = prod.rhs()\n",
        "                        for B_item in chart[start][mid]:\n",
        "                            for C_item in chart[mid][end]:\n",
        "                                if B == B_item and C == C_item:\n",
        "                                    chart[start][end].add(prod.lhs())\n",
        "                                    back[start][end][prod.lhs()] = (mid, B, C)\n",
        "\n",
        "    # If parse is successful, build and return parse tree\n",
        "    if grammar.start() in chart[0][len(tokens)]:\n",
        "        return build_tree(back, 0, len(tokens), grammar.start())\n",
        "    else:\n",
        "        return None\n",
        "\n",
        "def build_tree(back, start, end, nonterminal):\n",
        "    if isinstance(back[start][end][nonterminal], str):\n",
        "        return Tree(nonterminal.symbol(), [back[start][end][nonterminal]])\n",
        "    else:\n",
        "        mid, B, C = back[start][end][nonterminal]\n",
        "        left_tree = build_tree(back, start, mid, B)\n",
        "        right_tree = build_tree(back, mid, end, C)\n",
        "        return Tree(nonterminal.symbol(), [left_tree, right_tree])\n"
      ],
      "metadata": {
        "id": "x4M4goLMHIas"
      },
      "id": "x4M4goLMHIas",
      "execution_count": 157,
      "outputs": []
    },
    {
      "cell_type": "markdown",
      "id": "616a8a4a",
      "metadata": {
        "id": "616a8a4a"
      },
      "source": [
        "You can test your code on the test sentences provided above:"
      ]
    },
    {
      "cell_type": "code",
      "execution_count": 158,
      "id": "fa736151",
      "metadata": {
        "colab": {
          "base_uri": "https://localhost:8080/"
        },
        "id": "fa736151",
        "outputId": "9d019a44-af23-4deb-ac5c-c6971367c4f1"
      },
      "outputs": [
        {
          "output_type": "stream",
          "name": "stdout",
          "text": [
            "                                               S                                    \n",
            "                     __________________________|__________                           \n",
            "                    |                                 NP_FLIGHT                     \n",
            "                    |                                     |                          \n",
            "                    |                                 NOM_FLIGHT                    \n",
            "                    |                                     |                          \n",
            "                    |                                  N_FLIGHT                     \n",
            "                    |                           __________|_________                 \n",
            "                PREIGNORE                      |                    PP              \n",
            "        ____________|____________              |                    |                \n",
            "       |                     PREIGNORE      N_FLIGHT             PP_PLACE           \n",
            "       |                         |             |           _________|_________       \n",
            "PREIGNORESYMBOL           PREIGNORESYMBOL TERM_FLIGHT  P_PLACE            TERM_PLACE\n",
            "       |                         |             |          |                   |      \n",
            "      show                       me         flights      from               boston  \n",
            "\n",
            "                                               S                                                         \n",
            "                     __________________________|______________________                                    \n",
            "                    |                                             NP_FLIGHT                              \n",
            "                    |                                                 |                                   \n",
            "                    |                                             NOM_FLIGHT                             \n",
            "                    |                           ______________________|__________                         \n",
            "                    |                          |                             NOM_FLIGHT                  \n",
            "                    |                          |                                 |                        \n",
            "                    |                          |                              N_FLIGHT                   \n",
            "                    |                          |            _____________________|_________               \n",
            "                    |                          |           |                               PP            \n",
            "                    |                          |           |                               |              \n",
            "                PREIGNORE                      |           |                            PP_TIME          \n",
            "        ____________|____________              |           |                      _________|________      \n",
            "       |                     PREIGNORE        ADJ       N_FLIGHT                 |               NP_TIME \n",
            "       |                         |             |           |                     |                  |     \n",
            "PREIGNORESYMBOL           PREIGNORESYMBOL ADJ_AIRLINE TERM_FLIGHT              P_TIME           TERM_TIME\n",
            "       |                         |             |           |                     |                  |     \n",
            "      show                       me          united     flights                before              noon  \n",
            "\n",
            "failed to parse: are there any twa flights available tomorrow\n",
            "failed to parse: show me flights united are there any\n"
          ]
        }
      ],
      "source": [
        "for sentence in test_sentences:\n",
        "  tree = cky_parse(atis_grammar_cnf, tokenize(sentence))\n",
        "\n",
        "  if not tree:\n",
        "    print(f\"failed to parse: {sentence}\")\n",
        "  else:\n",
        "\n",
        "    xform.un_cnf(tree, atis_grammar_wunaries)\n",
        "    tree.pretty_print()"
      ]
    },
    {
      "cell_type": "markdown",
      "id": "e0abb984",
      "metadata": {
        "id": "e0abb984"
      },
      "source": [
        "You can also compare against the built-in NLTK parser that we constructed above:"
      ]
    },
    {
      "cell_type": "code",
      "execution_count": 159,
      "id": "33bd5285",
      "metadata": {
        "colab": {
          "base_uri": "https://localhost:8080/"
        },
        "id": "33bd5285",
        "outputId": "4a4f6238-4960-424b-a6c1-c757b42a0c08"
      },
      "outputs": [
        {
          "output_type": "stream",
          "name": "stdout",
          "text": [
            "\n",
            "SUCCESS!\n",
            "\n",
            "SUCCESS!\n",
            "\n",
            "SUCCESS!\n",
            "\n",
            "SUCCESS!\n"
          ]
        }
      ],
      "source": [
        "for sentence in test_sentences:\n",
        "  refparses = [p for p in atis_parser_expanded.parse(tokenize(sentence))]\n",
        "  predparse = cky_parse(atis_grammar_cnf, tokenize(sentence))\n",
        "  if predparse:\n",
        "    xform.un_cnf(predparse, atis_grammar_wunaries)\n",
        "  \"\"\"\n",
        "  print('Reference parses:')\n",
        "  for reftree in refparses:\n",
        "    print(reftree)\n",
        "\n",
        "  print('\\nPredicted parse:')\n",
        "  print(predparse)\n",
        "  \"\"\"\n",
        "\n",
        "  if (not predparse and len(refparses) == 0) or predparse in refparses:\n",
        "    print(\"\\nSUCCESS!\")\n",
        "  else:\n",
        "    print(\"\\nOops. No match.\")"
      ]
    },
    {
      "cell_type": "markdown",
      "id": "754ec97a",
      "metadata": {
        "id": "754ec97a"
      },
      "source": [
        "Again, we test the coverage as a way of verifying that your parser works consistently with the recognizer and the NLTK parser."
      ]
    },
    {
      "cell_type": "code",
      "execution_count": 160,
      "id": "865a10a8",
      "metadata": {
        "colab": {
          "base_uri": "https://localhost:8080/"
        },
        "id": "865a10a8",
        "outputId": "95ca813c-d576-456f-c5cc-986c928534d6"
      },
      "outputs": [
        {
          "output_type": "stream",
          "name": "stderr",
          "text": [
            "100%|██████████| 50/50 [00:15<00:00,  3.21it/s]\n"
          ]
        },
        {
          "output_type": "execute_result",
          "data": {
            "text/plain": [
              "0.44"
            ]
          },
          "metadata": {},
          "execution_count": 160
        }
      ],
      "source": [
        "coverage(lambda sent: cky_parse(atis_grammar_cnf, sent),\n",
        "         training_corpus, n=50)"
      ]
    },
    {
      "cell_type": "markdown",
      "id": "707fd40a",
      "metadata": {
        "id": "707fd40a"
      },
      "source": [
        "# Probabilistic CFG parsing via the CKY algorithm\n",
        "\n",
        "In practice, we want to work with grammars that cover nearly all the language we expect to come across for a given application. This leads to an explosion of rules and a large number of possible parses for any one sentence. To remove ambiguity between the different parses, it's desirable to move to probabilistic context-free grammars (PCFG). In this part of the assignment, you will construct a PCFG from training data, parse using a probabilistic version of CKY, and evaluate the quality of the resulting parses against gold trees.\n",
        "\n",
        "## Part 4: PCFG construction\n",
        "\n",
        "Compared to CFGs, PCFGs need to assign probabilities to grammar rules. For this goal, you'll write a function `pcfg_from_trees` that takes a list of strings describing a corpus of trees and returns an NLTK PCFG trained on that set of trees.\n",
        "\n",
        "> We expect you to implement `pcfg_from_trees` directly. You should **not** use the [`induce_pcfg`](https://www.nltk.org/api/nltk.grammar.html#nltk.grammar.induce_pcfg) function in implementing your solution.\n",
        "\n",
        "We want the PCFG to be in CNF format because the probabilistic version of CKY that you'll implement next also requires the grammar to be in CNF. However, the gold trees are not in CNF form, so in this case you will need to convert the gold *trees* to CNF before building the PCFG from them. To accomplish this, you should use the `treetransforms` package from `nltk`, which includes functions for converting to and from CNF. In particular, you'll want to make use of `treetransforms.collapse_unary` followed by `treetransforms.chomsky_normal_form` to convert a tree to its binarized version. You can then get the counts for all of the productions used in the trees, and then normalize them to probabilities so that the probabilities of all rules with the same left-hand side sum to 1.\n",
        "\n",
        "We'll use the `pcfg_from_trees` function that you define later for parsing.\n",
        "\n",
        "> To convert an `nltk.Tree` object `t` to CNF, you can use the below code. Note that it's different from the `xform` functions we used before as we are converting _trees_, not _grammars_.\n",
        ">\n",
        ">    ```\n",
        ">    treetransforms.collapse_unary(t, collapsePOS=True)\n",
        ">    treetransforms.chomsky_normal_form(t) # After this the tree will be in CNF\n",
        ">    ```\n",
        "\n",
        "> To construct a PCFG with a given start state and set of productions, see [`nltk.grammar.PCFG`](https://www.nltk.org/api/nltk.grammar.html#nltk.grammar.PCFG)."
      ]
    },
    {
      "cell_type": "code",
      "source": [
        "import nltk\n",
        "from nltk import Nonterminal, ProbabilisticProduction, PCFG\n",
        "from nltk import treetransforms\n",
        "\n",
        "def rule_counter(sentence_list):\n",
        "    out = {}\n",
        "    for sentence in sentence_list:\n",
        "        for production in nltk.Tree.fromstring(sentence).productions():\n",
        "            key = nltk.grammar.Production(production.lhs(), production.rhs())\n",
        "            if key in out:\n",
        "                out[key] += 1\n",
        "            else:\n",
        "                out[key] = 1\n",
        "    return out\n",
        "\n",
        "def lhs_counter(sentence_list):\n",
        "    out = {}\n",
        "    for sentence in sentence_list:\n",
        "        for production in nltk.Tree.fromstring(sentence).productions():\n",
        "            key = production.lhs()\n",
        "            if key in out:\n",
        "                out[key] += 1\n",
        "            else:\n",
        "                out[key] = 1\n",
        "    return out\n",
        "\n",
        "def rule_probs(sentence_list):\n",
        "    rule_dict = rule_counter(sentence_list)\n",
        "    lhs_dict = lhs_counter(sentence_list)\n",
        "    out = rule_dict\n",
        "    for key, value in out.items():\n",
        "        out[key] /= lhs_dict[key.lhs()]\n",
        "    return out\n",
        "\n",
        "def pcfg_from_trees(trees, start=Nonterminal('TOP')):\n",
        "    # Convert trees to Chomsky Normal Form\n",
        "    cnf_trees = []\n",
        "    for tree_str in trees:\n",
        "        tree = nltk.Tree.fromstring(tree_str)\n",
        "        treetransforms.collapse_unary(tree, collapsePOS=True)\n",
        "        treetransforms.chomsky_normal_form(tree)\n",
        "        cnf_trees.append(tree.pformat(margin=float('inf')))\n",
        "\n",
        "    # Calculate rule probabilities\n",
        "    rule_probabilities = rule_probs(cnf_trees)\n",
        "\n",
        "    # Create probabilistic productions\n",
        "    prob_productions = [\n",
        "        ProbabilisticProduction(p.lhs(), p.rhs(), prob=rule_probabilities[p])\n",
        "        for p in rule_probabilities\n",
        "    ]\n",
        "\n",
        "    # Create and return PCFG\n",
        "    return PCFG(start, prob_productions)\n"
      ],
      "metadata": {
        "id": "oxal2g9nLbNW"
      },
      "id": "oxal2g9nLbNW",
      "execution_count": 166,
      "outputs": []
    },
    {
      "cell_type": "markdown",
      "id": "354929a0",
      "metadata": {
        "id": "354929a0"
      },
      "source": [
        "We can now train a PCFG on the *train* split `train.trees` that we downloaded in the setup at the start of the notebook."
      ]
    },
    {
      "cell_type": "code",
      "execution_count": 167,
      "id": "a34def3e",
      "metadata": {
        "id": "a34def3e"
      },
      "outputs": [],
      "source": [
        "with open('data/train.trees') as file:\n",
        "  ## Convert the probabilistic productions to an NLTK probabilistic CFG.\n",
        "  pgrammar = pcfg_from_trees(file.readlines())\n",
        "\n",
        "## Verify that the grammar is in CNF\n",
        "assert(pgrammar.is_chomsky_normal_form())"
      ]
    },
    {
      "cell_type": "markdown",
      "id": "fa4c092b",
      "metadata": {
        "id": "fa4c092b"
      },
      "source": [
        "## Part 5: Probabilistic CKY parsing\n",
        "\n",
        "Finally, we are ready to implement probabilistic CKY parsing under PCFGs. Adapt the CKY parser from Part 3 to return the most likely parse and its **log probability** (base 2) given a PCFG. Note that to avoid underflows we want to work in the log space.\n",
        "> **Hint:** `production.logprob()` will return the log probability of a production rule `production`."
      ]
    },
    {
      "cell_type": "code",
      "source": [
        "import numpy as np\n",
        "\n",
        "def build_tree(i, j, nonterminal, back):\n",
        "    if (j - i) == 1:\n",
        "        return nltk.Tree(str(nonterminal), [back[i][j][nonterminal]])\n",
        "    else:\n",
        "        split, B, C = back[i][j][nonterminal]\n",
        "        return nltk.Tree(str(nonterminal), [build_tree(i, split, B, back), build_tree(split, j, C, back)])\n",
        "\n",
        "def cky_parse_probabilistic( grammar,tokens):\n",
        "    \"\"\" Returns the most probable parse tree of `tokens` and its log probability\n",
        "    given a probabilistic CFG `grammar`.\n",
        "\n",
        "    Implements the CKY algorithm, and therefore assumes `grammar` is in\n",
        "    Chomsky normal form.\n",
        "    \"\"\"\n",
        "\n",
        "    assert(grammar.is_chomsky_normal_form())\n",
        "    num_tokens = len(tokens)\n",
        "\n",
        "    # Initialize data structures\n",
        "    score = [[{} for j in range(num_tokens + 1)] for i in range(num_tokens)]\n",
        "    back = [[{} for j in range(num_tokens + 1)] for i in range(num_tokens)]\n",
        "\n",
        "    # Fill in base case probabilities\n",
        "    for j in range(1, num_tokens + 1):\n",
        "        for production in grammar.productions(rhs=tokens[j-1]):\n",
        "            score[j-1][j][production.lhs()] = np.log2(production.prob())\n",
        "            back[j-1][j][production.lhs()] = tokens[j-1]\n",
        "\n",
        "    # Fill in rest of table\n",
        "    for length in range(2, num_tokens + 1):\n",
        "        for i in range(num_tokens - length + 1):\n",
        "            j = i + length\n",
        "            for split in range(i + 1, j):\n",
        "                for production in grammar.productions():\n",
        "                    if len(production.rhs()) == 2:\n",
        "                        B, C = production.rhs()\n",
        "                        if B in score[i][split] and C in score[split][j]:\n",
        "                            new_prob = np.log2(production.prob()) + score[i][split][B] + score[split][j][C]\n",
        "                            if production.lhs() not in score[i][j] or new_prob > score[i][j][production.lhs()]:\n",
        "                                score[i][j][production.lhs()] = new_prob\n",
        "                                back[i][j][production.lhs()] = (split, B, C)\n",
        "\n",
        "    # Return most probable parse and its score\n",
        "    if grammar.start() not in back[0][num_tokens]:\n",
        "        return None, -np.inf\n",
        "\n",
        "    return build_tree(0, num_tokens, grammar.start(), back), score[0][num_tokens][grammar.start()]\n"
      ],
      "metadata": {
        "id": "UHs71ukIWDEi"
      },
      "id": "UHs71ukIWDEi",
      "execution_count": 233,
      "outputs": []
    },
    {
      "cell_type": "markdown",
      "id": "9f907cc5",
      "metadata": {
        "id": "9f907cc5"
      },
      "source": [
        "As an aid in debugging, you may want to start by testing your implementation of probabilistic CKY on a much smaller grammar than the one you trained from the ATIS corpus. Here's a little grammar that you can play with.\n",
        "\n",
        "> **Hint:** By \"play with\", we mean that you can change the gramamr to try out the behavior of your parser on different test grammars, including ambiguous cases."
      ]
    },
    {
      "cell_type": "code",
      "execution_count": 222,
      "id": "db7a7397",
      "metadata": {
        "colab": {
          "base_uri": "https://localhost:8080/"
        },
        "id": "db7a7397",
        "outputId": "f17ec3ea-a9b1-449c-9b23-bed92afc9a3c"
      },
      "outputs": [
        {
          "output_type": "stream",
          "name": "stdout",
          "text": [
            "True\n"
          ]
        }
      ],
      "source": [
        "grammar = PCFG.fromstring(\"\"\"\n",
        "  S -> NP VP [1.0]\n",
        "  VP -> V NP [1.0]\n",
        "  PP -> P NP [1.0]\n",
        "  NP -> 'sam' [.3]\n",
        "  NP -> 'ham' [.7]\n",
        "  V -> 'likes' [1.0]\n",
        "  \"\"\")\n",
        "print(grammar.is_chomsky_normal_form())"
      ]
    },
    {
      "cell_type": "code",
      "execution_count": 234,
      "id": "d360fc90",
      "metadata": {
        "colab": {
          "base_uri": "https://localhost:8080/"
        },
        "id": "d360fc90",
        "outputId": "da1293af-cce5-453c-e12d-1993ca3f681e"
      },
      "outputs": [
        {
          "output_type": "stream",
          "name": "stdout",
          "text": [
            "(S (NP sam) (VP (V likes) (NP ham)))\n",
            "      S          \n",
            "  ____|____       \n",
            " |         VP    \n",
            " |     ____|___   \n",
            " NP   V        NP\n",
            " |    |        |  \n",
            "sam likes     ham\n",
            "\n",
            "logprob: -2.25 | probability: 0.21\n"
          ]
        }
      ],
      "source": [
        "tree, logprob = cky_parse_probabilistic(grammar, tokenize('sam likes ham'))\n",
        "print(tree)\n",
        "tree.pretty_print()\n",
        "print(f\"logprob: {logprob:4.3g} | probability: {2**logprob:4.3g}\")"
      ]
    },
    {
      "cell_type": "code",
      "execution_count": 235,
      "id": "92c50128",
      "metadata": {
        "colab": {
          "base_uri": "https://localhost:8080/"
        },
        "id": "92c50128",
        "outputId": "8c70282d-2fbb-4533-86b0-56a824e5747f"
      },
      "outputs": [
        {
          "output_type": "stream",
          "name": "stdout",
          "text": [
            "                           TOP                     \n",
            "                      ______|___________________    \n",
            "                    FRAG                        |  \n",
            "                     |                          |   \n",
            "                     NP                         |  \n",
            "    _________________|___________               |   \n",
            "   |          PP                 PP             |  \n",
            "   |      ____|______        ____|_____         |   \n",
            "   NP    |           NP     |          NP       |  \n",
            "   |     |           |      |     _____|___     |   \n",
            "  NNS    IN         NNP     TO  NNP       NNP  PUNC\n",
            "   |     |           |      |    |         |    |   \n",
            "Flights from     Cleveland  to Kansas     City  .  \n",
            "\n",
            "logprob:  -27 | probability: 7.42e-09\n"
          ]
        }
      ],
      "source": [
        "# We don't use our tokenizer because the gold trees do not lowercase tokens\n",
        "sent = \"Flights from Cleveland to Kansas City .\".split()\n",
        "tree, logprob = cky_parse_probabilistic(pgrammar, sent)\n",
        "tree.un_chomsky_normal_form()\n",
        "tree.pretty_print()\n",
        "print(f\"logprob: {logprob:4.3g} | probability: {2**logprob:4.3g}\")"
      ]
    },
    {
      "cell_type": "markdown",
      "id": "f30e8d2b",
      "metadata": {
        "id": "f30e8d2b"
      },
      "source": [
        "## Evaluation of the grammar\n",
        "\n",
        "There are a number of ways to evaluate parsing algorithms. In this project segment, you will use the [\"industry-standard\" `evalb` implementation](https://nlp.cs.nyu.edu/evalb/) for computing constituent precision, recall, and F1 scores. We downloaded `evalb` during setup.\n",
        "\n",
        "We read in the test data..."
      ]
    },
    {
      "cell_type": "code",
      "execution_count": 236,
      "id": "9832c19c",
      "metadata": {
        "id": "9832c19c"
      },
      "outputs": [],
      "source": [
        "with open('data/test.trees') as file:\n",
        "  test_trees = [Tree.fromstring(line.strip()) for line in file.readlines()]\n",
        "\n",
        "test_sents = [tree.leaves() for tree in test_trees]"
      ]
    },
    {
      "cell_type": "markdown",
      "id": "f9d79a5d",
      "metadata": {
        "id": "f9d79a5d"
      },
      "source": [
        "...and parse the test sentences using your probabilistic CKY implementation, writing the output trees to a file."
      ]
    },
    {
      "cell_type": "code",
      "execution_count": 237,
      "id": "f0715fe3",
      "metadata": {
        "colab": {
          "base_uri": "https://localhost:8080/"
        },
        "id": "f0715fe3",
        "outputId": "bb0b1fbb-b3a7-4a08-8f3f-4ed680a06529"
      },
      "outputs": [
        {
          "output_type": "stream",
          "name": "stderr",
          "text": [
            "100%|██████████| 58/58 [00:02<00:00, 21.98it/s]\n"
          ]
        }
      ],
      "source": [
        "trees_out = []\n",
        "for sent in tqdm(test_sents):\n",
        "  tree, prob = cky_parse_probabilistic(pgrammar, sent)\n",
        "  if tree is not None:\n",
        "    tree.un_chomsky_normal_form()\n",
        "    trees_out.append(tree.pformat(margin=9999999999))\n",
        "  else:\n",
        "    trees_out.append('()')\n",
        "\n",
        "with open('data/outp.trees', 'w') as file:\n",
        "  for line in trees_out:\n",
        "    file.write(line + '\\n')"
      ]
    },
    {
      "cell_type": "markdown",
      "id": "2ff39db0",
      "metadata": {
        "id": "2ff39db0"
      },
      "source": [
        "Now we can compare the predicted trees to the ground truth trees, using `evalb`. You should expect to achieve F1 of about 0.83."
      ]
    },
    {
      "cell_type": "code",
      "execution_count": 238,
      "id": "c3ad9a92",
      "metadata": {
        "colab": {
          "base_uri": "https://localhost:8080/"
        },
        "outputId": "be3a0aba-597e-41c2-ce60-38c37e50bd8a",
        "id": "c3ad9a92"
      },
      "outputs": [
        {
          "output_type": "stream",
          "name": "stdout",
          "text": [
            "data/outp.trees\t345 brackets\n",
            "data/test.trees\t471 brackets\n",
            "matching\t339 brackets\n",
            "precision\t0.9826086956521739\n",
            "recall\t0.7197452229299363\n",
            "F1\t0.8308823529411764\n"
          ]
        }
      ],
      "source": [
        "shell(\"python scripts/evalb.py data/outp.trees data/test.trees\")"
      ]
    },
    {
      "cell_type": "markdown",
      "id": "8663e54a",
      "metadata": {
        "id": "8663e54a"
      },
      "source": [
        "## Debrief\n",
        "\n",
        "**Question:** We're interested in any thoughts you have about this project segment so that we can improve it for later years, and to inform later segments for this year. Please list any issues that arose or comments you have to improve the project segment. Useful things to comment on might include the following:\n",
        "\n",
        "* Was the project segment clear or unclear? Which portions?\n",
        "* Were the readings appropriate background for the project segment?\n",
        "* Are there additions or changes you think would make the project segment better?\n",
        "    ```\n",
        "    BEGIN QUESTION\n",
        "    name: open_response_debrief\n",
        "    manual: true\n",
        "    ```\n",
        "\n",
        "but you should comment on whatever aspects you found especially positive or negative."
      ]
    },
    {
      "cell_type": "markdown",
      "id": "861ff95f",
      "metadata": {
        "id": "861ff95f"
      },
      "source": [
        "_Type your answer here, replacing this text._"
      ]
    },
    {
      "cell_type": "markdown",
      "id": "d71f9d56",
      "metadata": {
        "id": "d71f9d56"
      },
      "source": [
        "# Instructions for submission of the project segment\n",
        "\n",
        "This project segment should be submitted to Gradescope at <https://rebrand.ly/project3-submit-code> and <https://rebrand.ly/project3-submit-pdf>, which will be made available some time before the due date.\n",
        "\n",
        "Project segment notebooks are manually graded, not autograded using otter as labs are. (Otter is used within project segment notebooks to synchronize distribution and solution code however.) **We will not run your notebook before grading it.** Instead, we ask that you submit the already freshly run notebook. The best method is to \"restart kernel and run all cells\", allowing time for all cells to be run to completion. You should submit your code to Gradescope at the code submission assignment at <https://rebrand.ly/project3-submit-code>. Make sure that you are also submitting your `data/grammar` file as part of your solution code as well.\n",
        "\n",
        "We also request that you **submit a PDF of the freshly run notebook**. The simplest method is to use \"Export notebook to PDF\", which will render the notebook to PDF via LaTeX. If that doesn't work, the method that seems to be most reliable is to export the notebook as HTML (if you are using Jupyter Notebook, you can do so using `File -> Print Preview`), open the HTML in a browser, and print it to a file. Then make sure to add the file to your git commit. Please name the file the same name as this notebook, but with a `.pdf` extension. (Conveniently, the methods just described will use that name by default.) You can then perform a git commit and push and submit the commit to Gradescope at <https://rebrand.ly/project3-submit-pdf>."
      ]
    },
    {
      "cell_type": "markdown",
      "id": "2da7a639",
      "metadata": {
        "id": "2da7a639"
      },
      "source": [
        "# End of project segment 3"
      ]
    }
  ],
  "metadata": {
    "colab": {
      "provenance": []
    },
    "kernelspec": {
      "display_name": "Python 3",
      "language": "python",
      "name": "python3"
    },
    "language_info": {
      "codemirror_mode": {
        "name": "ipython",
        "version": 3
      },
      "file_extension": ".py",
      "mimetype": "text/x-python",
      "name": "python",
      "nbconvert_exporter": "python",
      "pygments_lexer": "ipython3",
      "version": "3.8.3"
    },
    "title": "CS236299 Project Segment 3: Parsing – The CKY Algorithm"
  },
  "nbformat": 4,
  "nbformat_minor": 5
}